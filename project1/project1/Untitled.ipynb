{
 "cells": [
  {
   "cell_type": "code",
   "execution_count": null,
   "id": "38018de4-fe1f-402d-9837-30b1912d9e1b",
   "metadata": {},
   "outputs": [],
   "source": [
    "streamlit\n",
    "numpy\n",
    "pandas\n",
    "scikit-learn\n",
    "mysql-connector\n"
   ]
  }
 ],
 "metadata": {
  "kernelspec": {
   "display_name": "Python 3 (ipykernel)",
   "language": "python",
   "name": "python3"
  },
  "language_info": {
   "codemirror_mode": {
    "name": "ipython",
    "version": 3
   },
   "file_extension": ".py",
   "mimetype": "text/x-python",
   "name": "python",
   "nbconvert_exporter": "python",
   "pygments_lexer": "ipython3",
   "version": "3.12.4"
  }
 },
 "nbformat": 4,
 "nbformat_minor": 5
}
